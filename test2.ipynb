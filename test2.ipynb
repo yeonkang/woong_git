{
 "cells": [
  {
   "cell_type": "code",
   "execution_count": null,
   "id": "fd65a659",
   "metadata": {},
   "outputs": [],
   "source": []
  },
  {
   "cell_type": "code",
   "execution_count": null,
   "id": "b3dece44",
   "metadata": {},
   "outputs": [],
   "source": [
    "#깃에 잘 올라가줄래 ?"
   ]
  }
 ],
 "metadata": {
  "language_info": {
   "name": "python"
  }
 },
 "nbformat": 4,
 "nbformat_minor": 5
}
