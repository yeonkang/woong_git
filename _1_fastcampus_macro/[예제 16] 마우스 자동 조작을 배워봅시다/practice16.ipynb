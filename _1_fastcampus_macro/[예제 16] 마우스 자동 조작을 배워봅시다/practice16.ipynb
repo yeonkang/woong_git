{
 "cells": [
  {
   "cell_type": "code",
   "execution_count": 1,
   "id": "7e85c0d9",
   "metadata": {},
   "outputs": [],
   "source": [
    "import pywinmacro as pw\n"
   ]
  },
  {
   "cell_type": "code",
   "execution_count": null,
   "id": "d8b90be5",
   "metadata": {},
   "outputs": [],
   "source": [
    "pw.get_mouse_position() #마우스의 위치를 알 수 있는 코드\n"
   ]
  },
  {
   "cell_type": "code",
   "execution_count": 11,
   "id": "cb0a9391",
   "metadata": {},
   "outputs": [],
   "source": [
    "pw.move_mouse((2187,414))"
   ]
  },
  {
   "cell_type": "code",
   "execution_count": 14,
   "id": "aea4cae5",
   "metadata": {},
   "outputs": [],
   "source": [
    "pw.l_click()"
   ]
  },
  {
   "cell_type": "code",
   "execution_count": null,
   "id": "330ce19b",
   "metadata": {},
   "outputs": [],
   "source": [
    "# one click\n",
    "pw.click((location))\n",
    "\n",
    "#double click\n",
    "for i in range(2):\n",
    "    pw.l_click()\n",
    "    \n",
    "# same double click\n",
    "pw.double_click((location))"
   ]
  },
  {
   "cell_type": "code",
   "execution_count": null,
   "id": "84c742a4",
   "metadata": {},
   "outputs": [],
   "source": [
    "#drag and drop\n",
    "start = pw.get_mouse_position() #find mouse location where i want to start\n",
    "end = pw.get_mouse_position() #find mouse location where i want to end\n",
    "\n",
    "#we need to start above two sentences, seperatly\n",
    "pw.drag_drop(start,end) #need few delay time"
   ]
  },
  {
   "cell_type": "code",
   "execution_count": null,
   "id": "426305da",
   "metadata": {},
   "outputs": [],
   "source": [
    "#scroll\n",
    "pw.mouse_downscroll()\n",
    "pw.mouse_upscroll()\n"
   ]
  },
  {
   "cell_type": "code",
   "execution_count": null,
   "id": "d89a285f",
   "metadata": {},
   "outputs": [
    {
     "data": {
      "text/plain": [
       "'0x010409'"
      ]
     },
     "execution_count": 38,
     "metadata": {},
     "output_type": "execute_result"
    }
   ],
   "source": [
    "#make macro that can't make window maxsize\n",
    "while True:\n",
    "    if pw.get_color((~,~))== \"color\":\n",
    "        pw.click((~,~))\n",
    "\n",
    "pw.get_mouse_position()\n",
    "pw.get_color((609,775))"
   ]
  },
  {
   "cell_type": "code",
   "execution_count": null,
   "id": "95e67c2a",
   "metadata": {},
   "outputs": [],
   "source": []
  },
  {
   "cell_type": "code",
   "execution_count": null,
   "id": "a36cd5c5",
   "metadata": {},
   "outputs": [],
   "source": []
  },
  {
   "cell_type": "code",
   "execution_count": null,
   "id": "55fbcba6",
   "metadata": {},
   "outputs": [],
   "source": []
  }
 ],
 "metadata": {
  "kernelspec": {
   "display_name": "Python 3",
   "language": "python",
   "name": "python3"
  },
  "language_info": {
   "codemirror_mode": {
    "name": "ipython",
    "version": 3
   },
   "file_extension": ".py",
   "mimetype": "text/x-python",
   "name": "python",
   "nbconvert_exporter": "python",
   "pygments_lexer": "ipython3",
   "version": "3.12.2"
  }
 },
 "nbformat": 4,
 "nbformat_minor": 5
}
