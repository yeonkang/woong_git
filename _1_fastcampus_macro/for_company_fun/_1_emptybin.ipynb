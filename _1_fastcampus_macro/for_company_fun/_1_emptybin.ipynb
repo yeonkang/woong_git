{
 "cells": [
  {
   "cell_type": "code",
   "execution_count": 46,
   "id": "e3a0b218",
   "metadata": {},
   "outputs": [],
   "source": [
    "import pywinmacro as pw\n",
    "import time\n",
    "import cv2\n",
    "import numpy as np\n",
    "import pyautogui"
   ]
  },
  {
   "cell_type": "code",
   "execution_count": 41,
   "id": "478d61fc",
   "metadata": {},
   "outputs": [
    {
     "data": {
      "text/plain": [
       "(587, 349)"
      ]
     },
     "execution_count": 41,
     "metadata": {},
     "output_type": "execute_result"
    }
   ],
   "source": [
    "pw.get_mouse_position()"
   ]
  },
  {
   "cell_type": "code",
   "execution_count": null,
   "id": "1c31f9a7",
   "metadata": {},
   "outputs": [],
   "source": [
    "def is_full():\n",
    "    full_icon = pw.find_on_screend(filename=\"full.png\", confidence=0.8)\n",
    "    empty_icon = pw.find_on_screen(filename=\"clear.png\",confidence=0.8)\n",
    "    if not (full_icon or empty_icon):\n",
    "        print(\"there is no icon\")\n",
    "        return False\n",
    "    if full_icon:\n",
    "        pw.right_click(full_icon)\n",
    "        time.sleep(1)\n",
    "        pw.key_press_once(\"down_arrow\")\n",
    "        pw.key_press_once(\"down_arrow\")"
   ]
  },
  {
   "cell_type": "code",
   "execution_count": 51,
   "id": "4ebfd14c",
   "metadata": {},
   "outputs": [],
   "source": [
    "pw.right_click((33,33))"
   ]
  },
  {
   "cell_type": "code",
   "execution_count": 47,
   "id": "b707dd84",
   "metadata": {},
   "outputs": [
    {
     "ename": "AttributeError",
     "evalue": "module 'pywinmacro' has no attribute 'find_on_screen'",
     "output_type": "error",
     "traceback": [
      "\u001b[31m---------------------------------------------------------------------------\u001b[39m",
      "\u001b[31mAttributeError\u001b[39m                            Traceback (most recent call last)",
      "\u001b[36mCell\u001b[39m\u001b[36m \u001b[39m\u001b[32mIn[47]\u001b[39m\u001b[32m, line 1\u001b[39m\n\u001b[32m----> \u001b[39m\u001b[32m1\u001b[39m full_icon = \u001b[43mpw\u001b[49m\u001b[43m.\u001b[49m\u001b[43mfind_on_screen\u001b[49m(filename=\u001b[33m\"\u001b[39m\u001b[33mfull.png\u001b[39m\u001b[33m\"\u001b[39m, confidence=\u001b[32m0.8\u001b[39m)\n",
      "\u001b[31mAttributeError\u001b[39m: module 'pywinmacro' has no attribute 'find_on_screen'"
     ]
    }
   ],
   "source": [
    "full_icon = pw.find_on_screen(filename=\"full.png\", confidence=0.8)"
   ]
  },
  {
   "cell_type": "code",
   "execution_count": null,
   "id": "aeb54113",
   "metadata": {},
   "outputs": [],
   "source": []
  },
  {
   "cell_type": "code",
   "execution_count": null,
   "id": "91042b4d",
   "metadata": {},
   "outputs": [],
   "source": []
  }
 ],
 "metadata": {
  "kernelspec": {
   "display_name": "Python 3",
   "language": "python",
   "name": "python3"
  },
  "language_info": {
   "codemirror_mode": {
    "name": "ipython",
    "version": 3
   },
   "file_extension": ".py",
   "mimetype": "text/x-python",
   "name": "python",
   "nbconvert_exporter": "python",
   "pygments_lexer": "ipython3",
   "version": "3.12.2"
  }
 },
 "nbformat": 4,
 "nbformat_minor": 5
}
