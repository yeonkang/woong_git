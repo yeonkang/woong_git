{
 "cells": [
  {
   "cell_type": "code",
   "execution_count": 2,
   "id": "7e85c0d9",
   "metadata": {},
   "outputs": [],
   "source": [
    "import pywinmacro as pw\n",
    "import time"
   ]
  },
  {
   "cell_type": "code",
   "execution_count": 33,
   "id": "d8b90be5",
   "metadata": {},
   "outputs": [],
   "source": [
    "pw.typing(\"1234\") #한글은 입력이 안됨\n",
    "pw.type_in(\"한글 입력 가능\") #붙여넣기로 실행"
   ]
  },
  {
   "cell_type": "code",
   "execution_count": 34,
   "id": "cb0a9391",
   "metadata": {},
   "outputs": [
    {
     "ename": "SyntaxError",
     "evalue": "invalid syntax (2543876362.py, line 3)",
     "output_type": "error",
     "traceback": [
      "  \u001b[36mCell\u001b[39m\u001b[36m \u001b[39m\u001b[32mIn[34]\u001b[39m\u001b[32m, line 3\u001b[39m\n\u001b[31m    \u001b[39m\u001b[31mpw.click((~,~))\u001b[39m\n               ^\n\u001b[31mSyntaxError\u001b[39m\u001b[31m:\u001b[39m invalid syntax\n"
     ]
    }
   ],
   "source": [
    "#마우스를 이동과 키보드를 입력하려면 함수로 묶으면 편리하다\n",
    "def TYPE():\n",
    "    pw.click((~,~))\n",
    "    pw.type_in(\"함수로 묶으면 편리\")\n",
    "    \n",
    "TYPE()"
   ]
  },
  {
   "cell_type": "code",
   "execution_count": null,
   "id": "aea4cae5",
   "metadata": {},
   "outputs": [],
   "source": [
    "#키를 여러개 누르는 함수\n",
    "\n",
    "def test():\n",
    "    pw.key_on(\"control\")\n",
    "    pw.key_off(\"a\")\n",
    "    pw.key_on(\"control\")\n",
    "    pw.key_off(\"a\")"
   ]
  },
  {
   "cell_type": "code",
   "execution_count": null,
   "id": "989fced9",
   "metadata": {},
   "outputs": [],
   "source": [
    "pw.click((~,~))\n",
    "pw.ctrl_c()\n",
    "pw.ctrl_v()\n",
    "pw.ctrl_a()\n",
    "pw.ctrl_f()\n",
    "pw.alt_f4()\n",
    "pw.alt_tab()\n",
    "# 다 존재"
   ]
  },
  {
   "cell_type": "code",
   "execution_count": null,
   "id": "0de7d842",
   "metadata": {},
   "outputs": [],
   "source": [
    "#나만의 키 조합 \n",
    "\n",
    "def test():\n",
    "    pw.key_on(\"control\")\n",
    "    pw.key_on(\"p\")\n",
    "    pw.key_off(\"control\")\n",
    "    pw.key_off(\"p\")"
   ]
  },
  {
   "cell_type": "code",
   "execution_count": null,
   "id": "47622871",
   "metadata": {},
   "outputs": [],
   "source": []
  },
  {
   "cell_type": "code",
   "execution_count": null,
   "id": "330ce19b",
   "metadata": {},
   "outputs": [
    {
     "ename": "NameError",
     "evalue": "name 'location' is not defined",
     "output_type": "error",
     "traceback": [
      "\u001b[31m---------------------------------------------------------------------------\u001b[39m",
      "\u001b[31mNameError\u001b[39m                                 Traceback (most recent call last)",
      "\u001b[36mCell\u001b[39m\u001b[36m \u001b[39m\u001b[32mIn[9]\u001b[39m\u001b[32m, line 2\u001b[39m\n\u001b[32m      1\u001b[39m \u001b[38;5;66;03m# one click\u001b[39;00m\n\u001b[32m----> \u001b[39m\u001b[32m2\u001b[39m pw.click((\u001b[43mlocation\u001b[49m))\n\u001b[32m      4\u001b[39m \u001b[38;5;66;03m#double click\u001b[39;00m\n\u001b[32m      5\u001b[39m \u001b[38;5;28;01mfor\u001b[39;00m i \u001b[38;5;129;01min\u001b[39;00m \u001b[38;5;28mrange\u001b[39m(\u001b[32m2\u001b[39m):\n",
      "\u001b[31mNameError\u001b[39m: name 'location' is not defined"
     ]
    }
   ],
   "source": [
    "# one click\n",
    "pw.click((location))\n",
    "\n",
    "#double click\n",
    "for i in range(2):\n",
    "    pw.l_click()\n",
    "    \n",
    "# same double click\n",
    "pw.double_click((location))"
   ]
  },
  {
   "cell_type": "code",
   "execution_count": null,
   "id": "84c742a4",
   "metadata": {},
   "outputs": [],
   "source": [
    "#drag and drop\n",
    "start = pw.get_mouse_position() #find mouse location where i want to start\n",
    "end = pw.get_mouse_position() #find mouse location where i want to end\n",
    "\n",
    "#we need to start above two sentences, seperatly\n",
    "pw.drag_drop(start,end) #need few delay time"
   ]
  },
  {
   "cell_type": "code",
   "execution_count": null,
   "id": "085771e3",
   "metadata": {},
   "outputs": [],
   "source": []
  },
  {
   "cell_type": "code",
   "execution_count": null,
   "id": "426305da",
   "metadata": {},
   "outputs": [],
   "source": [
    "#scroll\n",
    "pw.mouse_downscroll()\n",
    "pw.mouse_upscroll()\n"
   ]
  },
  {
   "cell_type": "code",
   "execution_count": null,
   "id": "d89a285f",
   "metadata": {},
   "outputs": [
    {
     "data": {
      "text/plain": [
       "'0x010409'"
      ]
     },
     "execution_count": 38,
     "metadata": {},
     "output_type": "execute_result"
    }
   ],
   "source": [
    "#make macro that can't make window maxsize\n",
    "while True:\n",
    "    if pw.get_color((~,~))== \"color\":\n",
    "        pw.click((~,~))\n",
    "\n",
    "pw.get_mouse_position()\n",
    "pw.get_color((609,775))"
   ]
  },
  {
   "cell_type": "code",
   "execution_count": 49,
   "id": "874f618e",
   "metadata": {},
   "outputs": [
    {
     "data": {
      "text/plain": [
       "(1293, 14)"
      ]
     },
     "execution_count": 49,
     "metadata": {},
     "output_type": "execute_result"
    }
   ],
   "source": [
    "pw.get_mouse_position()"
   ]
  },
  {
   "cell_type": "code",
   "execution_count": 36,
   "id": "95e67c2a",
   "metadata": {},
   "outputs": [],
   "source": [
    "# enter\n",
    "pw.key_press_once(\"a\")"
   ]
  },
  {
   "cell_type": "code",
   "execution_count": 51,
   "id": "a36cd5c5",
   "metadata": {},
   "outputs": [],
   "source": [
    "def TYPE():\n",
    "    pw.click((1293,14))\n",
    "    time.sleep(3)\n",
    "    pw.key_press_once(\"b\")\n",
    "       \n"
   ]
  },
  {
   "cell_type": "code",
   "execution_count": 52,
   "id": "55fbcba6",
   "metadata": {},
   "outputs": [],
   "source": [
    "TYPE()"
   ]
  },
  {
   "cell_type": "code",
   "execution_count": null,
   "id": "02956c77",
   "metadata": {},
   "outputs": [],
   "source": []
  }
 ],
 "metadata": {
  "kernelspec": {
   "display_name": "Python 3",
   "language": "python",
   "name": "python3"
  },
  "language_info": {
   "codemirror_mode": {
    "name": "ipython",
    "version": 3
   },
   "file_extension": ".py",
   "mimetype": "text/x-python",
   "name": "python",
   "nbconvert_exporter": "python",
   "pygments_lexer": "ipython3",
   "version": "3.12.2"
  }
 },
 "nbformat": 4,
 "nbformat_minor": 5
}
