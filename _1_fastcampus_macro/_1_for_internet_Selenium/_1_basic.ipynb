{
 "cells": [
  {
   "cell_type": "code",
   "execution_count": 1,
   "id": "afd9d38e",
   "metadata": {},
   "outputs": [
    {
     "ename": "NameError",
     "evalue": "name 'webdriver' is not defined",
     "output_type": "error",
     "traceback": [
      "\u001b[31m---------------------------------------------------------------------------\u001b[39m",
      "\u001b[31mNameError\u001b[39m                                 Traceback (most recent call last)",
      "\u001b[36mCell\u001b[39m\u001b[36m \u001b[39m\u001b[32mIn[1]\u001b[39m\u001b[32m, line 8\u001b[39m\n\u001b[32m      5\u001b[39m \u001b[38;5;28;01mfrom\u001b[39;00m\u001b[38;5;250m \u001b[39m\u001b[34;01mselenium\u001b[39;00m\u001b[34;01m.\u001b[39;00m\u001b[34;01mwebdriver\u001b[39;00m\u001b[34;01m.\u001b[39;00m\u001b[34;01mchrome\u001b[39;00m\u001b[34;01m.\u001b[39;00m\u001b[34;01mservice\u001b[39;00m\u001b[38;5;250m \u001b[39m\u001b[38;5;28;01mimport\u001b[39;00m Service\n\u001b[32m      6\u001b[39m \u001b[38;5;28;01mfrom\u001b[39;00m\u001b[38;5;250m \u001b[39m\u001b[34;01mwebdriver_manager\u001b[39;00m\u001b[34;01m.\u001b[39;00m\u001b[34;01mchrome\u001b[39;00m\u001b[38;5;250m \u001b[39m\u001b[38;5;28;01mimport\u001b[39;00m ChromeDriverManager\n\u001b[32m----> \u001b[39m\u001b[32m8\u001b[39m driver = \u001b[43mwebdriver\u001b[49m.Chrome(service=Service(ChromeDriverManager().install()))\n",
      "\u001b[31mNameError\u001b[39m: name 'webdriver' is not defined"
     ]
    }
   ],
   "source": [
    "#!pip install webdriver-manager\n",
    "# !pip install selenium chromedriver_autoinstaller\n",
    "# !pip install --upgrade selenium\n",
    "\n",
    "from selenium.webdriver.chrome.service import Service\n",
    "from webdriver_manager.chrome import ChromeDriverManager\n",
    "\n",
    "driver = webdriver.Chrome(service=Service(ChromeDriverManager().install()))"
   ]
  },
  {
   "cell_type": "code",
   "execution_count": 2,
   "id": "25b8a18e",
   "metadata": {},
   "outputs": [],
   "source": [
    "# 하단 5개, 필수 라이브러리\n",
    "from selenium import webdriver\n",
    "from selenium.webdriver.common.keys import Keys\n",
    "from selenium.webdriver.common.by import By\n",
    "import time\n",
    "import pywinmacro as pw\n",
    "\n",
    "#버전 관리 + 경로 문제 완전 해결\n",
    "from selenium.webdriver.chrome.service import Service\n",
    "from webdriver_manager.chrome import ChromeDriverManager\n",
    "# driver = webdriver.Chrome(service=Service(ChromeDriverManager().install()))\n"
   ]
  },
  {
   "cell_type": "code",
   "execution_count": null,
   "id": "bf1ba26b",
   "metadata": {},
   "outputs": [],
   "source": [
    "# #다음과 같이 사용하면 깔끔함\n",
    "# driver = webdriver.Chrome(service=Service(ChromeDriverManager().install()))\n",
    "\n",
    "# # driver = webdriver.Chrome()\n",
    "# # driver.get(\"https://youtube.com\")"
   ]
  },
  {
   "cell_type": "code",
   "execution_count": null,
   "id": "ba746c84",
   "metadata": {},
   "outputs": [
    {
     "ename": "ImageNotFoundException",
     "evalue": "",
     "output_type": "error",
     "traceback": [
      "\u001b[31m---------------------------------------------------------------------------\u001b[39m",
      "\u001b[31mImageNotFoundException\u001b[39m                    Traceback (most recent call last)",
      "\u001b[36mFile \u001b[39m\u001b[32mc:\\Program Files\\Python312\\Lib\\site-packages\\pyautogui\\__init__.py:172\u001b[39m, in \u001b[36mraisePyAutoGUIImageNotFoundException.<locals>.wrapper\u001b[39m\u001b[34m(*args, **kwargs)\u001b[39m\n\u001b[32m    171\u001b[39m \u001b[38;5;28;01mtry\u001b[39;00m:\n\u001b[32m--> \u001b[39m\u001b[32m172\u001b[39m     \u001b[38;5;28;01mreturn\u001b[39;00m \u001b[43mwrappedFunction\u001b[49m\u001b[43m(\u001b[49m\u001b[43m*\u001b[49m\u001b[43margs\u001b[49m\u001b[43m,\u001b[49m\u001b[43m \u001b[49m\u001b[43m*\u001b[49m\u001b[43m*\u001b[49m\u001b[43mkwargs\u001b[49m\u001b[43m)\u001b[49m\n\u001b[32m    173\u001b[39m \u001b[38;5;28;01mexcept\u001b[39;00m pyscreeze.ImageNotFoundException:\n",
      "\u001b[36mFile \u001b[39m\u001b[32mc:\\Program Files\\Python312\\Lib\\site-packages\\pyautogui\\__init__.py:204\u001b[39m, in \u001b[36mlocateCenterOnScreen\u001b[39m\u001b[34m(*args, **kwargs)\u001b[39m\n\u001b[32m    202\u001b[39m \u001b[38;5;129m@raisePyAutoGUIImageNotFoundException\u001b[39m\n\u001b[32m    203\u001b[39m \u001b[38;5;28;01mdef\u001b[39;00m\u001b[38;5;250m \u001b[39m\u001b[34mlocateCenterOnScreen\u001b[39m(*args, **kwargs):\n\u001b[32m--> \u001b[39m\u001b[32m204\u001b[39m     \u001b[38;5;28;01mreturn\u001b[39;00m \u001b[43mpyscreeze\u001b[49m\u001b[43m.\u001b[49m\u001b[43mlocateCenterOnScreen\u001b[49m\u001b[43m(\u001b[49m\u001b[43m*\u001b[49m\u001b[43margs\u001b[49m\u001b[43m,\u001b[49m\u001b[43m \u001b[49m\u001b[43m*\u001b[49m\u001b[43m*\u001b[49m\u001b[43mkwargs\u001b[49m\u001b[43m)\u001b[49m\n",
      "\u001b[36mFile \u001b[39m\u001b[32mc:\\Program Files\\Python312\\Lib\\site-packages\\pyscreeze\\__init__.py:447\u001b[39m, in \u001b[36mlocateCenterOnScreen\u001b[39m\u001b[34m(image, **kwargs)\u001b[39m\n\u001b[32m    444\u001b[39m \u001b[38;5;250m\u001b[39m\u001b[33;03m\"\"\"\u001b[39;00m\n\u001b[32m    445\u001b[39m \u001b[33;03mTODO\u001b[39;00m\n\u001b[32m    446\u001b[39m \u001b[33;03m\"\"\"\u001b[39;00m\n\u001b[32m--> \u001b[39m\u001b[32m447\u001b[39m coords = \u001b[43mlocateOnScreen\u001b[49m\u001b[43m(\u001b[49m\u001b[43mimage\u001b[49m\u001b[43m,\u001b[49m\u001b[43m \u001b[49m\u001b[43m*\u001b[49m\u001b[43m*\u001b[49m\u001b[43mkwargs\u001b[49m\u001b[43m)\u001b[49m\n\u001b[32m    448\u001b[39m \u001b[38;5;28;01mif\u001b[39;00m coords \u001b[38;5;129;01mis\u001b[39;00m \u001b[38;5;28;01mNone\u001b[39;00m:\n",
      "\u001b[36mFile \u001b[39m\u001b[32mc:\\Program Files\\Python312\\Lib\\site-packages\\pyscreeze\\__init__.py:405\u001b[39m, in \u001b[36mlocateOnScreen\u001b[39m\u001b[34m(image, minSearchTime, **kwargs)\u001b[39m\n\u001b[32m    404\u001b[39m screenshotIm = screenshot(region=\u001b[38;5;28;01mNone\u001b[39;00m)\n\u001b[32m--> \u001b[39m\u001b[32m405\u001b[39m retVal = \u001b[43mlocate\u001b[49m\u001b[43m(\u001b[49m\u001b[43mimage\u001b[49m\u001b[43m,\u001b[49m\u001b[43m \u001b[49m\u001b[43mscreenshotIm\u001b[49m\u001b[43m,\u001b[49m\u001b[43m \u001b[49m\u001b[43m*\u001b[49m\u001b[43m*\u001b[49m\u001b[43mkwargs\u001b[49m\u001b[43m)\u001b[49m\n\u001b[32m    406\u001b[39m \u001b[38;5;28;01mtry\u001b[39;00m:\n",
      "\u001b[36mFile \u001b[39m\u001b[32mc:\\Program Files\\Python312\\Lib\\site-packages\\pyscreeze\\__init__.py:383\u001b[39m, in \u001b[36mlocate\u001b[39m\u001b[34m(needleImage, haystackImage, **kwargs)\u001b[39m\n\u001b[32m    382\u001b[39m kwargs[\u001b[33m'\u001b[39m\u001b[33mlimit\u001b[39m\u001b[33m'\u001b[39m] = \u001b[32m1\u001b[39m\n\u001b[32m--> \u001b[39m\u001b[32m383\u001b[39m points = \u001b[38;5;28;43mtuple\u001b[39;49m\u001b[43m(\u001b[49m\u001b[43mlocateAll\u001b[49m\u001b[43m(\u001b[49m\u001b[43mneedleImage\u001b[49m\u001b[43m,\u001b[49m\u001b[43m \u001b[49m\u001b[43mhaystackImage\u001b[49m\u001b[43m,\u001b[49m\u001b[43m \u001b[49m\u001b[43m*\u001b[49m\u001b[43m*\u001b[49m\u001b[43mkwargs\u001b[49m\u001b[43m)\u001b[49m\u001b[43m)\u001b[49m\n\u001b[32m    384\u001b[39m \u001b[38;5;28;01mif\u001b[39;00m \u001b[38;5;28mlen\u001b[39m(points) > \u001b[32m0\u001b[39m:\n",
      "\u001b[36mFile \u001b[39m\u001b[32mc:\\Program Files\\Python312\\Lib\\site-packages\\pyscreeze\\__init__.py:257\u001b[39m, in \u001b[36m_locateAll_opencv\u001b[39m\u001b[34m(needleImage, haystackImage, grayscale, limit, region, step, confidence)\u001b[39m\n\u001b[32m    256\u001b[39m \u001b[38;5;28;01mif\u001b[39;00m USE_IMAGE_NOT_FOUND_EXCEPTION:\n\u001b[32m--> \u001b[39m\u001b[32m257\u001b[39m     \u001b[38;5;28;01mraise\u001b[39;00m ImageNotFoundException(\u001b[33m'\u001b[39m\u001b[33mCould not locate the image (highest confidence = \u001b[39m\u001b[38;5;132;01m%.3f\u001b[39;00m\u001b[33m)\u001b[39m\u001b[33m'\u001b[39m % result.max())\n\u001b[32m    258\u001b[39m \u001b[38;5;28;01melse\u001b[39;00m:\n",
      "\u001b[31mImageNotFoundException\u001b[39m: Could not locate the image (highest confidence = 0.452)",
      "\nDuring handling of the above exception, another exception occurred:\n",
      "\u001b[31mImageNotFoundException\u001b[39m                    Traceback (most recent call last)",
      "\u001b[36mCell\u001b[39m\u001b[36m \u001b[39m\u001b[32mIn[5]\u001b[39m\u001b[32m, line 32\u001b[39m\n\u001b[32m     29\u001b[39m time.sleep(\u001b[32m13\u001b[39m)\n\u001b[32m     31\u001b[39m \u001b[38;5;28;01mfor\u001b[39;00m i \u001b[38;5;129;01min\u001b[39;00m \u001b[38;5;28mrange\u001b[39m(\u001b[32m3\u001b[39m):\n\u001b[32m---> \u001b[39m\u001b[32m32\u001b[39m     pop_close_botton= \u001b[43mpw\u001b[49m\u001b[43m.\u001b[49m\u001b[43mfind_on_screen\u001b[49m\u001b[43m(\u001b[49m\u001b[33;43m\"\u001b[39;49m\u001b[33;43mpopupclose.png\u001b[39;49m\u001b[33;43m\"\u001b[39;49m\u001b[43m)\u001b[49m\n\u001b[32m     33\u001b[39m     time.sleep(\u001b[32m0.5\u001b[39m)\n\u001b[32m     34\u001b[39m     pw.click(pop_close_botton)\n",
      "\u001b[36mFile \u001b[39m\u001b[32mc:\\Users\\showc\\OneDrive\\바탕 화면\\vs code\\woong_git\\_1_fastcampus_macro\\_1_for_internet_Selenium\\pywinmacro.py:289\u001b[39m, in \u001b[36mfind_on_screen\u001b[39m\u001b[34m(filename, confidence)\u001b[39m\n",
      "\u001b[36mFile \u001b[39m\u001b[32mc:\\Program Files\\Python312\\Lib\\site-packages\\pyautogui\\__init__.py:174\u001b[39m, in \u001b[36mraisePyAutoGUIImageNotFoundException.<locals>.wrapper\u001b[39m\u001b[34m(*args, **kwargs)\u001b[39m\n\u001b[32m    172\u001b[39m     \u001b[38;5;28;01mreturn\u001b[39;00m wrappedFunction(*args, **kwargs)\n\u001b[32m    173\u001b[39m \u001b[38;5;28;01mexcept\u001b[39;00m pyscreeze.ImageNotFoundException:\n\u001b[32m--> \u001b[39m\u001b[32m174\u001b[39m     \u001b[38;5;28;01mraise\u001b[39;00m ImageNotFoundException\n",
      "\u001b[31mImageNotFoundException\u001b[39m: "
     ]
    },
    {
     "ename": "",
     "evalue": "",
     "output_type": "error",
     "traceback": [
      "\u001b[1;31m현재 셀 또는 이전 셀에서 코드를 실행하는 동안 Kernel이 충돌했습니다. \n",
      "\u001b[1;31m셀의 코드를 검토하여 가능한 오류 원인을 식별하세요. \n",
      "\u001b[1;31m자세한 내용을 보려면 <a href='https://aka.ms/vscodeJupyterKernelCrash'>여기</a>를 클릭하세요. \n",
      "\u001b[1;31m자세한 내용은 Jupyter <a href='command:jupyter.viewOutput'>로그</a>를 참조하세요."
     ]
    }
   ],
   "source": [
    "# 아래 두개를 동시에 써야함..(?)\n",
    "driver = webdriver.Chrome(service=Service(ChromeDriverManager().install()))\n",
    "driver.get(\"https://ds.kyoboreadingtree.co.kr/common/login.do\")\n",
    "#driver.get : 내가 원하는 곳으로 이동\n",
    "time.sleep(1.5)\n",
    "\n",
    "login_id_selector = \"#login > div.input_wrap > label.input_id.lgnchkbe\"\n",
    "#login_button 에 담기\n",
    "login_button = driver.find_element(By.CSS_SELECTOR, login_id_selector)\n",
    "login_button.click()\n",
    "time.sleep(0.5)\n",
    "\n",
    "pw.type_in(\"ds20058393\")\n",
    "time.sleep(0.5)\n",
    "\n",
    "login_pw_selector = \"#login > div.input_wrap > label.input_pw.lgnchkbe\"\n",
    "#login_button 에 담기\n",
    "login_button = driver.find_element(By.CSS_SELECTOR, login_pw_selector)\n",
    "login_button.click()\n",
    "time.sleep(0.5)\n",
    "\n",
    "pw.type_in(\"1q2w3e4r!@\")\n",
    "time.sleep(0.5)\n",
    "\n",
    "login_enter_selector = \"#loginBtn\"\n",
    "#login_button 에 담기\n",
    "login_button = driver.find_element(By.CSS_SELECTOR, login_enter_selector)\n",
    "login_button.click()\n",
    "time.sleep(13)\n",
    "\n",
    "for i in range(3):\n",
    "    pop_close_botton= pw.find_on_screen(\"popupclose.png\")\n",
    "    time.sleep(0.5)\n",
    "    pw.click(pop_close_botton)\n",
    "    time.sleep(0.5)\n",
    "\n",
    "print(\"실행완료\")\n",
    "# login_input_selector = \"#layers > div:nth-child(2) > div > div > div > div > div > div.css-175oi2r.r-1ny4l3l.r-18u37iz.r-1pi2tsx.r-1777fci.r-1xcajam.r-ipm5af.r-g6jmlv.r-1awozwy > div.css-175oi2r.r-1wbh5a2.r-htvplk.r-1udh08x.r-1867qdf.r-kwpbio.r-rsyp9y.r-1pjcn9w.r-1279nm1 > div > div > div.css-175oi2r.r-1ny4l3l.r-6koalj.r-16y2uox.r-14lw9ot.r-1wbh5a2 > div.css-175oi2r.r-16y2uox.r-1wbh5a2.r-f8sm7e.r-13qz1uu.r-1ye8kvj > div > div > div > div.css-175oi2r.r-1mmae3n.r-1e084wi.r-13qz1uu > label > div > div.css-175oi2r.r-18u37iz.r-16y2uox.r-1wbh5a2.r-1wzrnnt.r-1udh08x.r-xd6kpl.r-is05cd.r-ttdzmv > div > input\"\n",
    "# # #way1 login_button 에 담기\n",
    "# # login_input = driver.find_element(By.CSS_SELECTOR, login_input_selector)\n",
    "# # login_input.click()\n",
    "\n",
    "# #way2 \n",
    "# for i in range(3):\n",
    "#     pw.key_press_once('tab')\n",
    "# time.sleep(0.5)\n",
    "\n",
    "# pw.type_in(\"\")\n"
   ]
  },
  {
   "cell_type": "code",
   "execution_count": null,
   "id": "3a192b0e",
   "metadata": {},
   "outputs": [
    {
     "ename": "ImageNotFoundException",
     "evalue": "",
     "output_type": "error",
     "traceback": [
      "\u001b[31m---------------------------------------------------------------------------\u001b[39m",
      "\u001b[31mImageNotFoundException\u001b[39m                    Traceback (most recent call last)",
      "\u001b[36mFile \u001b[39m\u001b[32mc:\\Program Files\\Python312\\Lib\\site-packages\\pyautogui\\__init__.py:172\u001b[39m, in \u001b[36mraisePyAutoGUIImageNotFoundException.<locals>.wrapper\u001b[39m\u001b[34m(*args, **kwargs)\u001b[39m\n\u001b[32m    171\u001b[39m \u001b[38;5;28;01mtry\u001b[39;00m:\n\u001b[32m--> \u001b[39m\u001b[32m172\u001b[39m     \u001b[38;5;28;01mreturn\u001b[39;00m \u001b[43mwrappedFunction\u001b[49m\u001b[43m(\u001b[49m\u001b[43m*\u001b[49m\u001b[43margs\u001b[49m\u001b[43m,\u001b[49m\u001b[43m \u001b[49m\u001b[43m*\u001b[49m\u001b[43m*\u001b[49m\u001b[43mkwargs\u001b[49m\u001b[43m)\u001b[49m\n\u001b[32m    173\u001b[39m \u001b[38;5;28;01mexcept\u001b[39;00m pyscreeze.ImageNotFoundException:\n",
      "\u001b[36mFile \u001b[39m\u001b[32mc:\\Program Files\\Python312\\Lib\\site-packages\\pyautogui\\__init__.py:204\u001b[39m, in \u001b[36mlocateCenterOnScreen\u001b[39m\u001b[34m(*args, **kwargs)\u001b[39m\n\u001b[32m    202\u001b[39m \u001b[38;5;129m@raisePyAutoGUIImageNotFoundException\u001b[39m\n\u001b[32m    203\u001b[39m \u001b[38;5;28;01mdef\u001b[39;00m\u001b[38;5;250m \u001b[39m\u001b[34mlocateCenterOnScreen\u001b[39m(*args, **kwargs):\n\u001b[32m--> \u001b[39m\u001b[32m204\u001b[39m     \u001b[38;5;28;01mreturn\u001b[39;00m \u001b[43mpyscreeze\u001b[49m\u001b[43m.\u001b[49m\u001b[43mlocateCenterOnScreen\u001b[49m\u001b[43m(\u001b[49m\u001b[43m*\u001b[49m\u001b[43margs\u001b[49m\u001b[43m,\u001b[49m\u001b[43m \u001b[49m\u001b[43m*\u001b[49m\u001b[43m*\u001b[49m\u001b[43mkwargs\u001b[49m\u001b[43m)\u001b[49m\n",
      "\u001b[36mFile \u001b[39m\u001b[32mc:\\Program Files\\Python312\\Lib\\site-packages\\pyscreeze\\__init__.py:447\u001b[39m, in \u001b[36mlocateCenterOnScreen\u001b[39m\u001b[34m(image, **kwargs)\u001b[39m\n\u001b[32m    444\u001b[39m \u001b[38;5;250m\u001b[39m\u001b[33;03m\"\"\"\u001b[39;00m\n\u001b[32m    445\u001b[39m \u001b[33;03mTODO\u001b[39;00m\n\u001b[32m    446\u001b[39m \u001b[33;03m\"\"\"\u001b[39;00m\n\u001b[32m--> \u001b[39m\u001b[32m447\u001b[39m coords = \u001b[43mlocateOnScreen\u001b[49m\u001b[43m(\u001b[49m\u001b[43mimage\u001b[49m\u001b[43m,\u001b[49m\u001b[43m \u001b[49m\u001b[43m*\u001b[49m\u001b[43m*\u001b[49m\u001b[43mkwargs\u001b[49m\u001b[43m)\u001b[49m\n\u001b[32m    448\u001b[39m \u001b[38;5;28;01mif\u001b[39;00m coords \u001b[38;5;129;01mis\u001b[39;00m \u001b[38;5;28;01mNone\u001b[39;00m:\n",
      "\u001b[36mFile \u001b[39m\u001b[32mc:\\Program Files\\Python312\\Lib\\site-packages\\pyscreeze\\__init__.py:405\u001b[39m, in \u001b[36mlocateOnScreen\u001b[39m\u001b[34m(image, minSearchTime, **kwargs)\u001b[39m\n\u001b[32m    404\u001b[39m screenshotIm = screenshot(region=\u001b[38;5;28;01mNone\u001b[39;00m)\n\u001b[32m--> \u001b[39m\u001b[32m405\u001b[39m retVal = \u001b[43mlocate\u001b[49m\u001b[43m(\u001b[49m\u001b[43mimage\u001b[49m\u001b[43m,\u001b[49m\u001b[43m \u001b[49m\u001b[43mscreenshotIm\u001b[49m\u001b[43m,\u001b[49m\u001b[43m \u001b[49m\u001b[43m*\u001b[49m\u001b[43m*\u001b[49m\u001b[43mkwargs\u001b[49m\u001b[43m)\u001b[49m\n\u001b[32m    406\u001b[39m \u001b[38;5;28;01mtry\u001b[39;00m:\n",
      "\u001b[36mFile \u001b[39m\u001b[32mc:\\Program Files\\Python312\\Lib\\site-packages\\pyscreeze\\__init__.py:383\u001b[39m, in \u001b[36mlocate\u001b[39m\u001b[34m(needleImage, haystackImage, **kwargs)\u001b[39m\n\u001b[32m    382\u001b[39m kwargs[\u001b[33m'\u001b[39m\u001b[33mlimit\u001b[39m\u001b[33m'\u001b[39m] = \u001b[32m1\u001b[39m\n\u001b[32m--> \u001b[39m\u001b[32m383\u001b[39m points = \u001b[38;5;28;43mtuple\u001b[39;49m\u001b[43m(\u001b[49m\u001b[43mlocateAll\u001b[49m\u001b[43m(\u001b[49m\u001b[43mneedleImage\u001b[49m\u001b[43m,\u001b[49m\u001b[43m \u001b[49m\u001b[43mhaystackImage\u001b[49m\u001b[43m,\u001b[49m\u001b[43m \u001b[49m\u001b[43m*\u001b[49m\u001b[43m*\u001b[49m\u001b[43mkwargs\u001b[49m\u001b[43m)\u001b[49m\u001b[43m)\u001b[49m\n\u001b[32m    384\u001b[39m \u001b[38;5;28;01mif\u001b[39;00m \u001b[38;5;28mlen\u001b[39m(points) > \u001b[32m0\u001b[39m:\n",
      "\u001b[36mFile \u001b[39m\u001b[32mc:\\Program Files\\Python312\\Lib\\site-packages\\pyscreeze\\__init__.py:257\u001b[39m, in \u001b[36m_locateAll_opencv\u001b[39m\u001b[34m(needleImage, haystackImage, grayscale, limit, region, step, confidence)\u001b[39m\n\u001b[32m    256\u001b[39m \u001b[38;5;28;01mif\u001b[39;00m USE_IMAGE_NOT_FOUND_EXCEPTION:\n\u001b[32m--> \u001b[39m\u001b[32m257\u001b[39m     \u001b[38;5;28;01mraise\u001b[39;00m ImageNotFoundException(\u001b[33m'\u001b[39m\u001b[33mCould not locate the image (highest confidence = \u001b[39m\u001b[38;5;132;01m%.3f\u001b[39;00m\u001b[33m)\u001b[39m\u001b[33m'\u001b[39m % result.max())\n\u001b[32m    258\u001b[39m \u001b[38;5;28;01melse\u001b[39;00m:\n",
      "\u001b[31mImageNotFoundException\u001b[39m: Could not locate the image (highest confidence = 0.324)",
      "\nDuring handling of the above exception, another exception occurred:\n",
      "\u001b[31mImageNotFoundException\u001b[39m                    Traceback (most recent call last)",
      "\u001b[36mCell\u001b[39m\u001b[36m \u001b[39m\u001b[32mIn[65]\u001b[39m\u001b[32m, line 1\u001b[39m\n\u001b[32m----> \u001b[39m\u001b[32m1\u001b[39m \u001b[43mpw\u001b[49m\u001b[43m.\u001b[49m\u001b[43mfind_on_screen\u001b[49m\u001b[43m(\u001b[49m\u001b[33;43m\"\u001b[39;49m\u001b[33;43mpopupclose.png\u001b[39;49m\u001b[33;43m\"\u001b[39;49m\u001b[43m)\u001b[49m\n",
      "\u001b[36mFile \u001b[39m\u001b[32mc:\\Users\\showc\\OneDrive\\바탕 화면\\vs code\\woong_git\\1.fastcampus_macro\\1. for internet Selenium\\pywinmacro.py:289\u001b[39m, in \u001b[36mfind_on_screen\u001b[39m\u001b[34m(filename, confidence)\u001b[39m\n",
      "\u001b[36mFile \u001b[39m\u001b[32mc:\\Program Files\\Python312\\Lib\\site-packages\\pyautogui\\__init__.py:174\u001b[39m, in \u001b[36mraisePyAutoGUIImageNotFoundException.<locals>.wrapper\u001b[39m\u001b[34m(*args, **kwargs)\u001b[39m\n\u001b[32m    172\u001b[39m     \u001b[38;5;28;01mreturn\u001b[39;00m wrappedFunction(*args, **kwargs)\n\u001b[32m    173\u001b[39m \u001b[38;5;28;01mexcept\u001b[39;00m pyscreeze.ImageNotFoundException:\n\u001b[32m--> \u001b[39m\u001b[32m174\u001b[39m     \u001b[38;5;28;01mraise\u001b[39;00m ImageNotFoundException\n",
      "\u001b[31mImageNotFoundException\u001b[39m: "
     ]
    },
    {
     "name": "stderr",
     "output_type": "stream",
     "text": [
      "Exception ignored in: <function Service.__del__ at 0x000001589A91E340>\n",
      "Traceback (most recent call last):\n",
      "  File \"c:\\Program Files\\Python312\\Lib\\site-packages\\selenium\\webdriver\\common\\service.py\", line 201, in __del__\n",
      "    self.stop()\n",
      "  File \"c:\\Program Files\\Python312\\Lib\\site-packages\\selenium\\webdriver\\common\\service.py\", line 157, in stop\n",
      "    self.send_remote_shutdown_command()\n",
      "  File \"c:\\Program Files\\Python312\\Lib\\site-packages\\selenium\\webdriver\\common\\service.py\", line 142, in send_remote_shutdown_command\n",
      "    if not self.is_connectable():\n",
      "           ^^^^^^^^^^^^^^^^^^^^^\n",
      "  File \"c:\\Program Files\\Python312\\Lib\\site-packages\\selenium\\webdriver\\common\\service.py\", line 131, in is_connectable\n",
      "    return utils.is_connectable(self.port)\n",
      "           ^^^^^^^^^^^^^^^^^^^^^^^^^^^^^^^\n",
      "  File \"c:\\Program Files\\Python312\\Lib\\site-packages\\selenium\\webdriver\\common\\utils.py\", line 101, in is_connectable\n",
      "    socket_ = socket.create_connection((host, port), 1)\n",
      "              ^^^^^^^^^^^^^^^^^^^^^^^^^^^^^^^^^^^^^^^^^\n",
      "  File \"c:\\Program Files\\Python312\\Lib\\socket.py\", line 844, in create_connection\n",
      "    exceptions.clear()  # raise only the last error\n",
      "    ^^^^^^^^^^^^^^^^^^\n",
      "KeyboardInterrupt: \n"
     ]
    }
   ],
   "source": []
  },
  {
   "cell_type": "code",
   "execution_count": null,
   "id": "3f0d3e6b",
   "metadata": {},
   "outputs": [
    {
     "data": {
      "text/plain": [
       "(674, 1009)"
      ]
     },
     "execution_count": 35,
     "metadata": {},
     "output_type": "execute_result"
    }
   ],
   "source": []
  },
  {
   "cell_type": "code",
   "execution_count": null,
   "id": "b57d60d8",
   "metadata": {},
   "outputs": [],
   "source": []
  },
  {
   "cell_type": "code",
   "execution_count": null,
   "id": "381f44a0",
   "metadata": {},
   "outputs": [],
   "source": []
  },
  {
   "cell_type": "code",
   "execution_count": null,
   "id": "b9489bdf",
   "metadata": {},
   "outputs": [
    {
     "data": {
      "text/plain": [
       "(np.int64(592), np.int64(757))"
      ]
     },
     "execution_count": 71,
     "metadata": {},
     "output_type": "execute_result"
    }
   ],
   "source": []
  },
  {
   "cell_type": "code",
   "execution_count": null,
   "id": "0ade337f",
   "metadata": {},
   "outputs": [],
   "source": []
  },
  {
   "cell_type": "code",
   "execution_count": null,
   "id": "b56b48cb",
   "metadata": {},
   "outputs": [],
   "source": []
  }
 ],
 "metadata": {
  "kernelspec": {
   "display_name": "Python 3",
   "language": "python",
   "name": "python3"
  },
  "language_info": {
   "codemirror_mode": {
    "name": "ipython",
    "version": 3
   },
   "file_extension": ".py",
   "mimetype": "text/x-python",
   "name": "python",
   "nbconvert_exporter": "python",
   "pygments_lexer": "ipython3",
   "version": "3.12.2"
  }
 },
 "nbformat": 4,
 "nbformat_minor": 5
}
