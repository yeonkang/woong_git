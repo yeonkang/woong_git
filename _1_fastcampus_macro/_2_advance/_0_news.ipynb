{
 "cells": [
  {
   "cell_type": "code",
   "execution_count": 1,
   "id": "e175d39d",
   "metadata": {},
   "outputs": [],
   "source": [
    "# 하단 5개, 필수 라이브러리\n",
    "from selenium import webdriver\n",
    "from selenium.webdriver.common.keys import Keys\n",
    "from selenium.webdriver.common.by import By\n",
    "import time\n",
    "import pywinmacro as pw\n",
    "import pyperclip\n",
    "#하위 두개, 버전 맞추는데 필요\n",
    "from selenium.webdriver.chrome.service import Service\n",
    "from webdriver_manager.chrome import ChromeDriverManager"
   ]
  },
  {
   "cell_type": "code",
   "execution_count": null,
   "id": "ad94d43c",
   "metadata": {},
   "outputs": [],
   "source": [
    "# 아래 두개를 동시에 써야함..(?)\n",
    "driver = webdriver.Chrome()\n",
    "# driver.get(\"https://google.com/search?start=10&tbm=nws&q=\")\n",
    "\n",
    "\n",
    "# def copy_all():\n",
    "#     pw.click((915, 720))\n",
    "#     pw.ctrl_a()\n",
    "#     pw.ctrl_c()\n",
    "# copy_all()    "
   ]
  },
  {
   "cell_type": "code",
   "execution_count": 62,
   "id": "40cf3d88",
   "metadata": {},
   "outputs": [
    {
     "data": {
      "text/plain": [
       "[]"
      ]
     },
     "execution_count": 62,
     "metadata": {},
     "output_type": "execute_result"
    }
   ],
   "source": [
    "#use.... stupid way to scrap...?\n",
    "#google, search, page=2\n",
    "baseurl =\"https://google.com/search?start=10&tbm=nws&q=\"\n",
    "\n",
    "#드라이버를 먼저 초기화\n",
    "driver = webdriver.Chrome(service=Service(ChromeDriverManager().install()))\n",
    "\n",
    "def search(keyword):\n",
    "    driver.get(baseurl + keyword)\n",
    "\n",
    "\n",
    "search(\"패스트캠퍼스\")\n",
    "#복수로 찾을땐, elements\n",
    "# news_elements = driver.find_elements(By.CLASS_NAME, \"WlydOe\")\n",
    "##이렇게 쓰는것도 가능함\n",
    "#elements = driver.find_elements(By.CSS_SELECTOR, \".WlydOe\")\n",
    "\n",
    "\n",
    "#아래, 다른 대안\n",
    "# def search(keyword):\n",
    "#     driver = webdriver.Chrome(service=Service(ChromeDriverManager().install()))\n",
    "#     driver.get(baseurl + keyword)\n",
    "#     return driver\n",
    "\n",
    "# driver = search(\"패스트캠퍼스\")\n",
    "# elements = driver.find_elements(By.CLASS_NAME, \"WlydOe\")search(\"패스트캠퍼스\")\n",
    "news_elements = driver.find_elements(By.CLASS_NAME, \"xuvV6b.BGxR7d\")\n",
    "contents=[]\n",
    "for el in news_elements:\n",
    "    summary = el.text\n",
    "    url = el.find_element(By.CLASS_NAME, \"Wlyd0e\").get_attribute(\"href\")\n",
    "    contents.append([summary,url])\n",
    "    \n",
    "contents"
   ]
  },
  {
   "cell_type": "code",
   "execution_count": 58,
   "id": "c3968cab",
   "metadata": {},
   "outputs": [],
   "source": [
    "search(\"패스트캠퍼스\")\n",
    "news_elements = driver.find_elements(By.CLASS_NAME, \"xuvV6b.BGxR7d\")\n",
    "contents=[]\n",
    "for el in news_elements:\n",
    "    summary = el.text\n",
    "    url = el.find_element(By.CLASS_NAME, \"Wlyd0e\").get_attribute(\"href\")\n",
    "    contents.append([summary,url])"
   ]
  },
  {
   "cell_type": "code",
   "execution_count": 57,
   "id": "e1899292",
   "metadata": {},
   "outputs": [
    {
     "data": {
      "text/plain": [
       "[]"
      ]
     },
     "execution_count": 57,
     "metadata": {},
     "output_type": "execute_result"
    }
   ],
   "source": [
    "contents"
   ]
  },
  {
   "cell_type": "code",
   "execution_count": null,
   "id": "e43d8a6d",
   "metadata": {},
   "outputs": [],
   "source": [
    "def twitter_login(idfile):\n",
    "    driver.get(\"https://twitter.com/i/flow/login\")\n",
    "    file = open(idfile)\n",
    "    id, ps = file.read().strip().slpit(\",\")\n",
    "    file.close\n",
    "    login_field= driver.find_element(By.TAG_NAME, \"input\")\n",
    "    login_field.send_keys(id)\n",
    "    login_field.send_keys(Keys.ENTER)"
   ]
  },
  {
   "cell_type": "code",
   "execution_count": null,
   "id": "e57ca79f",
   "metadata": {},
   "outputs": [
    {
     "ename": "TypeError",
     "evalue": "twitter_login() missing 1 required positional argument: 'idfile'",
     "output_type": "error",
     "traceback": [
      "\u001b[31m---------------------------------------------------------------------------\u001b[39m",
      "\u001b[31mTypeError\u001b[39m                                 Traceback (most recent call last)",
      "\u001b[36mCell\u001b[39m\u001b[36m \u001b[39m\u001b[32mIn[65]\u001b[39m\u001b[32m, line 1\u001b[39m\n\u001b[32m----> \u001b[39m\u001b[32m1\u001b[39m \u001b[43mtwitter_login\u001b[49m\u001b[43m(\u001b[49m\u001b[43m)\u001b[49m\n",
      "\u001b[31mTypeError\u001b[39m: twitter_login() missing 1 required positional argument: 'idfile'"
     ]
    }
   ],
   "source": [
    "#type two keys\n",
    "text_field.send_keys(Keys.CONTROL, Keys.ENTER)"
   ]
  },
  {
   "cell_type": "code",
   "execution_count": null,
   "id": "cb2968c0",
   "metadata": {},
   "outputs": [
    {
     "ename": "NameError",
     "evalue": "name 'login_field' is not defined",
     "output_type": "error",
     "traceback": [
      "\u001b[31m---------------------------------------------------------------------------\u001b[39m",
      "\u001b[31mNameError\u001b[39m                                 Traceback (most recent call last)",
      "\u001b[36mCell\u001b[39m\u001b[36m \u001b[39m\u001b[32mIn[66]\u001b[39m\u001b[32m, line 1\u001b[39m\n\u001b[32m----> \u001b[39m\u001b[32m1\u001b[39m \u001b[43mlogin_field\u001b[49m.send_keys(Keys.ENTER)\n",
      "\u001b[31mNameError\u001b[39m: name 'login_field' is not defined"
     ]
    }
   ],
   "source": []
  },
  {
   "cell_type": "code",
   "execution_count": null,
   "id": "d0b9dfb1",
   "metadata": {},
   "outputs": [],
   "source": []
  },
  {
   "cell_type": "code",
   "execution_count": null,
   "id": "a76c833a",
   "metadata": {},
   "outputs": [],
   "source": []
  },
  {
   "cell_type": "code",
   "execution_count": null,
   "id": "0283bf5b",
   "metadata": {},
   "outputs": [
    {
     "data": {
      "text/plain": [
       "(915, 720)"
      ]
     },
     "execution_count": 15,
     "metadata": {},
     "output_type": "execute_result"
    }
   ],
   "source": []
  }
 ],
 "metadata": {
  "kernelspec": {
   "display_name": "Python 3",
   "language": "python",
   "name": "python3"
  },
  "language_info": {
   "codemirror_mode": {
    "name": "ipython",
    "version": 3
   },
   "file_extension": ".py",
   "mimetype": "text/x-python",
   "name": "python",
   "nbconvert_exporter": "python",
   "pygments_lexer": "ipython3",
   "version": "3.12.2"
  }
 },
 "nbformat": 4,
 "nbformat_minor": 5
}
